{
 "cells": [
  {
   "cell_type": "code",
   "execution_count": 5,
   "metadata": {},
   "outputs": [
    {
     "name": "stdout",
     "output_type": "stream",
     "text": [
      "Please enter hours: 45\n",
      "Please enter rate: 10.50\n",
      "498.75\n"
     ]
    }
   ],
   "source": [
    "\n",
    "# # 3.1 Write a program to prompt the user for hours and rate per hour using input to compute gross pay. \n",
    "# Pay the hourly rate for the hours up to 40 and 1.5 times the hourly rate for all hours worked above 40 hours. \n",
    "# Use 45 hours and a rate of 10.50 per hour to test the program (the pay should be 498.75). \n",
    "# \\You should use input to read a string and float() to convert the string to a number. \n",
    "# Do not worry about error checking the user input - assume the user types numbers properly.\n",
    "\n",
    "try:\n",
    "    inp = input(\"Please enter hours: \")\n",
    "    hours=float(inp)\n",
    "    inp = input(\"Please enter rate: \")\n",
    "    rate= float(inp)\n",
    "except:\n",
    "    print (\"Please enter a number as input\")\n",
    "    quit()\n",
    "\n",
    "def computepay(h,r):\n",
    "    if (h>40) : \n",
    "        pay = (40*r)+(h-40)*1.5*r\n",
    "    else:\n",
    "        pay = (h*r) \n",
    "    return pay\n",
    "\n",
    "print (computepay(hours,rate))\n"
   ]
  },
  {
   "cell_type": "code",
   "execution_count": 34,
   "metadata": {},
   "outputs": [
    {
     "name": "stdout",
     "output_type": "stream",
     "text": [
      "Enter the number between 0.0 and 1.00.85\n",
      "B\n"
     ]
    }
   ],
   "source": [
    "# 3.3 Write a program to prompt for a score between 0.0 and 1.0.\n",
    "# If the score is out of range, print an error.\n",
    "# If the score is between 0.0 and 1.0, print a grade using the following table:\n",
    "# Score Grade\n",
    "# >= 0.9 A\n",
    "# >= 0.8 B\n",
    "# >= 0.7 C\n",
    "# >= 0.6 D\n",
    "# < 0.6 F\n",
    "# If the user enters a value out of range, print a suitable error message and exit. For the test, enter a score of 0.85.\n",
    "\n",
    "\n",
    "a=input(\"Enter the number between 0.0 and 1.0\")\n",
    "x=float(a)\n",
    "\n",
    "\n",
    "# if 0.0 <= s <= 1.0:\n",
    "# for x in range(00//10, 10//10):\n",
    "# if score>1.0 or score<0.0 :\n",
    "\n",
    "#     if (score >= 1.0):\n",
    "#         print(\"You didn't follow instructions\")\n",
    "#         exit()\n",
    "\n",
    "if x>0.0 or x<1.0:\n",
    "    if x>= 0.9:\n",
    "        print(\"A\")\n",
    "    elif x>= 0.8:\n",
    "        print(\"B\")\n",
    "    elif x>= 0.7:\n",
    "        print(\"C\")\n",
    "    elif x>= 0.6:\n",
    "        print(\"D\")\n",
    "    elif x< 0.6:\n",
    "        print(\"F\")\n",
    "else:\n",
    "    print(\"suitable error message and exit\")\n",
    "\n",
    "\n",
    "        \n",
    "    \n",
    "\n",
    "\n"
   ]
  },
  {
   "cell_type": "code",
   "execution_count": 65,
   "metadata": {},
   "outputs": [
    {
     "name": "stdout",
     "output_type": "stream",
     "text": [
      "repeatedly enter integer5\n"
     ]
    },
    {
     "ename": "NameError",
     "evalue": "name 'done' is not defined",
     "output_type": "error",
     "traceback": [
      "\u001b[1;31m---------------------------------------------------------------------------\u001b[0m",
      "\u001b[1;31mNameError\u001b[0m                                 Traceback (most recent call last)",
      "\u001b[1;32m<ipython-input-65-2da13bb387d5>\u001b[0m in \u001b[0;36m<module>\u001b[1;34m()\u001b[0m\n\u001b[0;32m     10\u001b[0m \u001b[0mx\u001b[0m\u001b[1;33m=\u001b[0m\u001b[0minput\u001b[0m\u001b[1;33m(\u001b[0m\u001b[1;34m\"repeatedly enter integer\"\u001b[0m\u001b[1;33m)\u001b[0m\u001b[1;33m\u001b[0m\u001b[0m\n\u001b[0;32m     11\u001b[0m \u001b[1;33m\u001b[0m\u001b[0m\n\u001b[1;32m---> 12\u001b[1;33m \u001b[1;32mwhile\u001b[0m \u001b[1;33m(\u001b[0m\u001b[0mx\u001b[0m \u001b[1;33m==\u001b[0m \u001b[0mdone\u001b[0m \u001b[1;32min\u001b[0m \u001b[0mx\u001b[0m\u001b[1;33m)\u001b[0m\u001b[1;33m:\u001b[0m\u001b[1;33m\u001b[0m\u001b[0m\n\u001b[0m\u001b[0;32m     13\u001b[0m     \u001b[0mprint\u001b[0m \u001b[1;33m(\u001b[0m\u001b[0msorted\u001b[0m\u001b[1;33m(\u001b[0m\u001b[0mx\u001b[0m\u001b[1;33m)\u001b[0m\u001b[1;33m)\u001b[0m\u001b[1;33m\u001b[0m\u001b[0m\n\u001b[0;32m     14\u001b[0m \u001b[1;31m#     for x = int(x):\u001b[0m\u001b[1;33m\u001b[0m\u001b[1;33m\u001b[0m\u001b[0m\n",
      "\u001b[1;31mNameError\u001b[0m: name 'done' is not defined"
     ]
    }
   ],
   "source": [
    "# 5.2 Write a program that repeatedly prompts a user for integer \n",
    "# numbers until the user enters 'done'.  ???????\n",
    "# Once 'done' is entered, print out the largest and smallest of the numbers. \n",
    "# If the user enters anything other than a valid number catch it with a try/except \n",
    "# and put out an appropriate message \n",
    "# and ignore the number. \n",
    "# Enter 7, 2, bob, 10, and 4 and match the output below.\n",
    "\n",
    "\n",
    "x=input(\"repeatedly enter integer\")\n",
    "\n",
    "while (x == done in x): \n",
    "    print (sorted(x))  \n",
    "#     for x = int(x):\n",
    "#         print(\"not a valid number\")\n",
    "    \n",
    "\n",
    "    \n",
    "\n",
    "\n",
    "\n"
   ]
  },
  {
   "cell_type": "code",
   "execution_count": 11,
   "metadata": {},
   "outputs": [
    {
     "name": "stdout",
     "output_type": "stream",
     "text": [
      "Enter a number: 4\n",
      "Enter a number: 5\n",
      "Enter a number: 5\n",
      "Enter a number: fr\n",
      "Invalid input\n",
      "Enter a number: donr\n",
      "Invalid input\n",
      "Enter a number: done\n",
      "Maximum is 5\n",
      "Minimum is 4\n"
     ]
    }
   ],
   "source": [
    "nums = []\n",
    "while True:\n",
    "  n = input(\"Enter a number: \")\n",
    "  if n == \"done\":\n",
    "    break\n",
    "  try:\n",
    "    nums.append(int(n))\n",
    "  except ValueError:\n",
    "    print (\"Invalid input\")\n",
    "\n",
    "print (\"Maximum is %d\" % max(nums))\n",
    "print (\"Minimum is %d\" % min(nums))"
   ]
  },
  {
   "cell_type": "code",
   "execution_count": null,
   "metadata": {},
   "outputs": [],
   "source": [
    "445# # 4.6 Write a program to prompt the user for hours and rate per hour ......\n",
    "# using input to compute gross pay.   \n",
    "# Award time-and-a-half for the hourly rate for all hours worked above 40 hours. \n",
    "# Put the logic to do the computation of time-and-a-half in a function called computepay() \n",
    "# and use the function to do the computation. \n",
    "# The function should return a value. \n",
    "# Use 45 hours and a rate of 10.50 per hour to test the program (the pay should be 498.75).\n",
    "# You should use input to read a string and float() to convert the string to a number. \n",
    "# Do not worry about error checking the user input unless you want to - you can assume the user types numbers properly. \n",
    "# Do not name your variable sum or use the sum() function.\n",
    "\n",
    "\n",
    "\n",
    "try:\n",
    "    inp = input(\"Please enter hours: \")\n",
    "    hours=float(inp)\n",
    "    inp = input(\"Please enter rate: \")\n",
    "    rate= float(inp)\n",
    "except:\n",
    "    print (\"Please enter a number as input\")\n",
    "    quit()\n",
    "\n",
    "def computepay(h,r):\n",
    "    if (h>40) : \n",
    "        pay = (40*r)+(h-40)*1.5*r\n",
    "    else:\n",
    "        pay = (h*r) \n",
    "    return pay\n",
    "\n",
    "print (computepay(hours,rate))"
   ]
  },
  {
   "cell_type": "code",
   "execution_count": null,
   "metadata": {},
   "outputs": [],
   "source": [
    "print(42 % 10)"
   ]
  },
  {
   "cell_type": "code",
   "execution_count": 38,
   "metadata": {},
   "outputs": [
    {
     "name": "stdout",
     "output_type": "stream",
     "text": [
      "0.8475\n"
     ]
    }
   ],
   "source": [
    "# # 6.5 Write code using find() \n",
    "# and string slicing (see section 6.10)\n",
    "# text = \"X-DSPAM-Confidence:    0.8475\";\n",
    "# to extract the number at the end of the line below. \n",
    "# Convert the extracted value to a floating point number and \n",
    "# print it out.\n",
    "# #############0.8475\n",
    "\n",
    "import re\n",
    "x=re.findall(\"\\d+\\.\\d+\", \"X-DSPAM-Confidence:    0.8475\")\n",
    "new_list = []\n",
    "for item in x:\n",
    "    new_list.append(float(item))\n",
    "print(item)"
   ]
  },
  {
   "cell_type": "code",
   "execution_count": 27,
   "metadata": {},
   "outputs": [
    {
     "name": "stdout",
     "output_type": "stream",
     "text": [
      "0.8475\n"
     ]
    }
   ],
   "source": [
    "import re\n",
    "str1 = \"X-DSPAM-Confidence:    0.8475\"\n",
    "print(float(str1.split()[-1]))"
   ]
  },
  {
   "cell_type": "code",
   "execution_count": 33,
   "metadata": {},
   "outputs": [
    {
     "name": "stdout",
     "output_type": "stream",
     "text": [
      "0.8475\n"
     ]
    }
   ],
   "source": [
    "import re\n",
    "x=re.findall(\"\\d+\\.\\d+\", \"X-DSPAM-Confidence:    0.8475\")\n",
    "new_list = []\n",
    "for item in x:\n",
    "    new_list.append(float(item))\n",
    "print(item)"
   ]
  },
  {
   "cell_type": "code",
   "execution_count": null,
   "metadata": {},
   "outputs": [],
   "source": [
    "# # 7.1 Write a program that prompts for a file name, \n",
    "# then opens that file \n",
    "# and reads through the file, \n",
    "# and print the contents of the file in upper case. \n",
    "# Use the file words.txt to produce the output below.\n",
    "# # You can download the sample data at http://www.py4e.com/code3/words.txt\n",
    "\n",
    "x=input(\"Enter file name\")\n",
    "y=words.txt\n",
    "if x == y:\n",
    "    lines = open(r'C:\\Users\\Aditya Modi\\Desktop\\words.txt').read()\n",
    "    print(lines)\n",
    "\n",
    "    \n",
    "    \n",
    "    \n",
    "    \n",
    "\n",
    "\n"
   ]
  },
  {
   "cell_type": "code",
   "execution_count": 5,
   "metadata": {},
   "outputs": [],
   "source": [
    "# 7.2 Write a program that prompts for a file name, then opens that file and reads through the file, looking for lines of the form:\n",
    "# X-DSPAM-Confidence:    0.8475\n",
    "# Count these lines and extract the floating point values from each of the lines and compute the average of those values and produce an output as shown below. Do not use the sum() function or a variable named sum in your solution.\n",
    "# # You can download the sample data at http://www.py4e.com/code3/mbox-short.txt when you are testing below enter mbox-short.txt as the file name.\n",
    "\n",
    "#Average spam confidence: 0.750718518519\n",
    "\n",
    "\n",
    "\n",
    "\n"
   ]
  },
  {
   "cell_type": "code",
   "execution_count": 6,
   "metadata": {},
   "outputs": [],
   "source": [
    "#  8.4 Open the file romeo.txt and read it line by line. For each line, split the line into a list of words using the split() method. The program should build a list of words. For each word on each line check to see if the word is already in the list and if not append it to the list. When the program completes, sort and print the resulting words in alphabetical order.\n",
    "#  You can download the sample data at http://www.py4e.com/code3/romeo.txt\n",
    "\n",
    "\n",
    "## ['Arise', 'But', 'It', 'Juliet', 'Who', 'already', 'and', 'breaks', 'east', 'envious', 'fair', 'grief', 'is', 'kill', 'light', 'moon', 'pale', 'sick', 'soft', 'sun', 'the', 'through', 'what', 'window', 'with', 'yonder']\n",
    "\n",
    "\n"
   ]
  },
  {
   "cell_type": "code",
   "execution_count": 7,
   "metadata": {},
   "outputs": [],
   "source": [
    "# 8.5 Open the file mbox-short.txt and read it line by line. When you find a line that starts with 'From ' like the following line:\n",
    "# From stephen.marquard@uct.ac.za Sat Jan  5 09:14:16 2008\n",
    "# You will parse the From line using split() and print out the second word in the line (i.e. the entire address of the person who sent the message). Then print out a count at the end.\n",
    "# Hint: make sure not to include the lines that start with 'From:'.\n",
    "\n",
    "# You can download the sample data at http://www.py4e.com/code3/mbox-short.txt\n",
    "    \n",
    "    \n",
    "# stephen.marquard@uct.ac.za\n",
    "# louis@media.berkeley.edu\n",
    "# zqian@umich.edu\n",
    "# rjlowe@iupui.edu\n",
    "\n",
    "\n",
    "\n",
    "\n"
   ]
  },
  {
   "cell_type": "code",
   "execution_count": 8,
   "metadata": {},
   "outputs": [],
   "source": [
    "# 9.4 Write a program to read through the mbox-short.txt and figure out who has the sent the greatest number of mail messages. The program looks for 'From ' lines and takes the second word of those lines as the person who sent the mail. The program creates a Python dictionary that maps the sender's mail address to a count of the number of times they appear in the file. After the dictionary is produced, the program reads through the dictionary using a maximum loop to find the most prolific committer.\n",
    "\n",
    "# cwen@iupui.edu 5\n",
    "\n",
    "\n"
   ]
  },
  {
   "cell_type": "code",
   "execution_count": null,
   "metadata": {},
   "outputs": [],
   "source": [
    "# 10.2 Write a program to read through the mbox-short.txt and figure out the distribution by hour of the day for each of the messages. You can pull the hour out from the 'From ' line by finding the time and then splitting the string a second time using a colon.\n",
    "# From stephen.marquard@uct.ac.za Sat Jan  5 09:14:16 2008\n",
    "# Once you have accumulated the counts for each hour, print out the counts, sorted by hour as shown below.\n",
    "\n",
    "\n",
    "# 04 3\n",
    "# 06 1\n",
    "# 07 1\n",
    "# 09 2\n",
    "# 10 3\n",
    "\n",
    "\n",
    "\n"
   ]
  }
 ],
 "metadata": {
  "kernelspec": {
   "display_name": "Python 3",
   "language": "python",
   "name": "python3"
  },
  "language_info": {
   "codemirror_mode": {
    "name": "ipython",
    "version": 3
   },
   "file_extension": ".py",
   "mimetype": "text/x-python",
   "name": "python",
   "nbconvert_exporter": "python",
   "pygments_lexer": "ipython3",
   "version": "3.6.3"
  }
 },
 "nbformat": 4,
 "nbformat_minor": 2
}
