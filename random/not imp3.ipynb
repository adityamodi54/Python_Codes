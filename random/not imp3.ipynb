{
 "cells": [
  {
   "cell_type": "code",
   "execution_count": 99,
   "metadata": {},
   "outputs": [
    {
     "data": {
      "text/plain": [
       "'Python (programming language) - Wikipedia'"
      ]
     },
     "execution_count": 99,
     "metadata": {},
     "output_type": "execute_result"
    }
   ],
   "source": [
    "import requests\n",
    "from bs4 import BeautifulSoup\n",
    " \n",
    "req = requests.get('https://en.wikipedia.org/wiki/Python_(programming_language)')\n",
    "soup = BeautifulSoup(req.text, \"lxml\")\n",
    "\n",
    "# soup.title\n",
    "# # <title>Python (programming language) - Wikipedia</title>\n",
    " \n",
    "# soup.title.name\n",
    "# # 'title'\n",
    " \n",
    "soup.title.string\n",
    "# 'Python (programming language) - Wikipedia'"
   ]
  },
  {
   "cell_type": "code",
   "execution_count": 100,
   "metadata": {},
   "outputs": [
    {
     "data": {
      "text/plain": [
       "['firstHeading']"
      ]
     },
     "execution_count": 100,
     "metadata": {},
     "output_type": "execute_result"
    }
   ],
   "source": [
    "soup.h1['class']"
   ]
  },
  {
   "cell_type": "code",
   "execution_count": 101,
   "metadata": {},
   "outputs": [
    {
     "data": {
      "text/plain": [
       "{'id': 'firstHeading', 'class': ['firstHeading'], 'lang': 'en'}"
      ]
     },
     "execution_count": 101,
     "metadata": {},
     "output_type": "execute_result"
    }
   ],
   "source": [
    "soup.h1.attrs"
   ]
  },
  {
   "cell_type": "code",
   "execution_count": 92,
   "metadata": {
    "scrolled": true
   },
   "outputs": [
    {
     "name": "stdout",
     "output_type": "stream",
     "text": [
      "Contents\n",
      "History[edit]\n",
      "Features and philosophy[edit]\n",
      "Syntax and semantics[edit]\n",
      "Libraries[edit]\n",
      "Development environments[edit]\n",
      "Implementations[edit]\n",
      "Development[edit]\n",
      "Naming[edit]\n",
      "Uses[edit]\n",
      "Languages influenced by Python[edit]\n",
      "See also[edit]\n",
      "References[edit]\n",
      "Further reading[edit]\n",
      "External links[edit]\n",
      "Navigation menu\n"
     ]
    }
   ],
   "source": [
    "for sub_heading in soup.find_all('h2'):\n",
    "    print(sub_heading.text)"
   ]
  },
  {
   "cell_type": "code",
   "execution_count": 102,
   "metadata": {},
   "outputs": [
    {
     "name": "stdout",
     "output_type": "stream",
     "text": [
      "[<a href=\"/wiki/Duck_typing\" title=\"Duck typing\">Duck</a>, ', ', <a class=\"mw-redirect\" href=\"/wiki/Dynamic_typing\" title=\"Dynamic typing\">dynamic</a>, ', ', <a class=\"mw-redirect\" href=\"/wiki/Strong_typing\" title=\"Strong typing\">strong</a>, '\\n', <b>since version 3.5:</b>, '\\n']\n"
     ]
    }
   ],
   "source": [
    "print(soup.p.contents)"
   ]
  },
  {
   "cell_type": "code",
   "execution_count": 108,
   "metadata": {},
   "outputs": [
    {
     "name": "stdout",
     "output_type": "stream",
     "text": [
      "td\n",
      "td\n",
      "tr\n",
      "tbody\n",
      "table\n",
      "div\n",
      "div\n",
      "div\n",
      "div\n",
      "body\n",
      "html\n",
      "[document]\n"
     ]
    }
   ],
   "source": [
    "print(soup.p.parent.name)\n",
    "# div\n",
    " \n",
    "for parent in soup.p.parents:\n",
    "    print(parent.name)"
   ]
  },
  {
   "cell_type": "code",
   "execution_count": 121,
   "metadata": {},
   "outputs": [
    {
     "name": "stdout",
     "output_type": "stream",
     "text": [
      "[]\n"
     ]
    },
    {
     "name": "stderr",
     "output_type": "stream",
     "text": [
      "C:\\Users\\Aditya Modi\\Anaconda3\\lib\\site-packages\\bs4\\__init__.py:282: UserWarning: \"http://py4e-data.dr-chuck.net/comments_42.html\" looks like a URL. Beautiful Soup is not an HTTP client. You should probably use an HTTP client like requests to get the document behind the URL, and feed that document to Beautiful Soup.\n",
      "  ' that document to Beautiful Soup.' % decoded_markup\n"
     ]
    }
   ],
   "source": [
    "moretxt = \"http://py4e-data.dr-chuck.net/comments_42.html\"\n",
    "\n",
    "soup = BeautifulSoup(moretxt, 'lxml')\n",
    "tags = soup.find_all('h1')\n"
   ]
  },
  {
   "cell_type": "code",
   "execution_count": 124,
   "metadata": {},
   "outputs": [
    {
     "name": "stdout",
     "output_type": "stream",
     "text": [
      "['https://www.whitehouse.gov/the-press-office/2013/12/06/press-briefing-press-secretary-jay-carney-1262013']\n",
      "['https://www.whitehouse.gov/the-press-office/2013/12/06/press-briefing-press-secretary-jay-carney-1262013', 'https://www.whitehouse.gov/the-press-office/2013/12/05/daily-briefing-press-secretary-1252013']\n",
      "['https://www.whitehouse.gov/the-press-office/2013/12/06/press-briefing-press-secretary-jay-carney-1262013', 'https://www.whitehouse.gov/the-press-office/2013/12/05/daily-briefing-press-secretary-1252013', 'https://www.whitehouse.gov/the-press-office/2013/12/05/press-briefing-senior-administration-officials-fact-sheet-strengthening-']\n",
      "['https://www.whitehouse.gov/the-press-office/2013/12/06/press-briefing-press-secretary-jay-carney-1262013', 'https://www.whitehouse.gov/the-press-office/2013/12/05/daily-briefing-press-secretary-1252013', 'https://www.whitehouse.gov/the-press-office/2013/12/05/press-briefing-senior-administration-officials-fact-sheet-strengthening-', 'https://www.whitehouse.gov/the-press-office/2013/12/04/press-briefing-press-secretary-1232013']\n",
      "['https://www.whitehouse.gov/the-press-office/2013/12/06/press-briefing-press-secretary-jay-carney-1262013', 'https://www.whitehouse.gov/the-press-office/2013/12/05/daily-briefing-press-secretary-1252013', 'https://www.whitehouse.gov/the-press-office/2013/12/05/press-briefing-senior-administration-officials-fact-sheet-strengthening-', 'https://www.whitehouse.gov/the-press-office/2013/12/04/press-briefing-press-secretary-1232013', 'https://www.whitehouse.gov/the-press-office/2013/12/02/press-briefing-press-secretary-jay-carney-1222013']\n",
      "['https://www.whitehouse.gov/the-press-office/2013/12/06/press-briefing-press-secretary-jay-carney-1262013', 'https://www.whitehouse.gov/the-press-office/2013/12/05/daily-briefing-press-secretary-1252013', 'https://www.whitehouse.gov/the-press-office/2013/12/05/press-briefing-senior-administration-officials-fact-sheet-strengthening-', 'https://www.whitehouse.gov/the-press-office/2013/12/04/press-briefing-press-secretary-1232013', 'https://www.whitehouse.gov/the-press-office/2013/12/02/press-briefing-press-secretary-jay-carney-1222013', 'https://www.whitehouse.gov/the-press-office/2013/11/26/press-gaggle-principal-deputy-press-secretary-josh-earnest-los-angeles-c']\n",
      "['https://www.whitehouse.gov/the-press-office/2013/12/06/press-briefing-press-secretary-jay-carney-1262013', 'https://www.whitehouse.gov/the-press-office/2013/12/05/daily-briefing-press-secretary-1252013', 'https://www.whitehouse.gov/the-press-office/2013/12/05/press-briefing-senior-administration-officials-fact-sheet-strengthening-', 'https://www.whitehouse.gov/the-press-office/2013/12/04/press-briefing-press-secretary-1232013', 'https://www.whitehouse.gov/the-press-office/2013/12/02/press-briefing-press-secretary-jay-carney-1222013', 'https://www.whitehouse.gov/the-press-office/2013/11/26/press-gaggle-principal-deputy-press-secretary-josh-earnest-los-angeles-c', 'https://www.whitehouse.gov/the-press-office/2013/11/25/press-gaggle-principal-deputy-press-secretary-josh-earnest-aboard-air-fo']\n",
      "['https://www.whitehouse.gov/the-press-office/2013/12/06/press-briefing-press-secretary-jay-carney-1262013', 'https://www.whitehouse.gov/the-press-office/2013/12/05/daily-briefing-press-secretary-1252013', 'https://www.whitehouse.gov/the-press-office/2013/12/05/press-briefing-senior-administration-officials-fact-sheet-strengthening-', 'https://www.whitehouse.gov/the-press-office/2013/12/04/press-briefing-press-secretary-1232013', 'https://www.whitehouse.gov/the-press-office/2013/12/02/press-briefing-press-secretary-jay-carney-1222013', 'https://www.whitehouse.gov/the-press-office/2013/11/26/press-gaggle-principal-deputy-press-secretary-josh-earnest-los-angeles-c', 'https://www.whitehouse.gov/the-press-office/2013/11/25/press-gaggle-principal-deputy-press-secretary-josh-earnest-aboard-air-fo', 'https://www.whitehouse.gov/the-press-office/2013/11/22/daily-briefing-press-secretary-112213']\n",
      "['https://www.whitehouse.gov/the-press-office/2013/12/06/press-briefing-press-secretary-jay-carney-1262013', 'https://www.whitehouse.gov/the-press-office/2013/12/05/daily-briefing-press-secretary-1252013', 'https://www.whitehouse.gov/the-press-office/2013/12/05/press-briefing-senior-administration-officials-fact-sheet-strengthening-', 'https://www.whitehouse.gov/the-press-office/2013/12/04/press-briefing-press-secretary-1232013', 'https://www.whitehouse.gov/the-press-office/2013/12/02/press-briefing-press-secretary-jay-carney-1222013', 'https://www.whitehouse.gov/the-press-office/2013/11/26/press-gaggle-principal-deputy-press-secretary-josh-earnest-los-angeles-c', 'https://www.whitehouse.gov/the-press-office/2013/11/25/press-gaggle-principal-deputy-press-secretary-josh-earnest-aboard-air-fo', 'https://www.whitehouse.gov/the-press-office/2013/11/22/daily-briefing-press-secretary-112213', 'https://www.whitehouse.gov/the-press-office/2013/11/21/briefing-principal-deputy-press-secretary-josh-earnest-112113']\n",
      "['https://www.whitehouse.gov/the-press-office/2013/12/06/press-briefing-press-secretary-jay-carney-1262013', 'https://www.whitehouse.gov/the-press-office/2013/12/05/daily-briefing-press-secretary-1252013', 'https://www.whitehouse.gov/the-press-office/2013/12/05/press-briefing-senior-administration-officials-fact-sheet-strengthening-', 'https://www.whitehouse.gov/the-press-office/2013/12/04/press-briefing-press-secretary-1232013', 'https://www.whitehouse.gov/the-press-office/2013/12/02/press-briefing-press-secretary-jay-carney-1222013', 'https://www.whitehouse.gov/the-press-office/2013/11/26/press-gaggle-principal-deputy-press-secretary-josh-earnest-los-angeles-c', 'https://www.whitehouse.gov/the-press-office/2013/11/25/press-gaggle-principal-deputy-press-secretary-josh-earnest-aboard-air-fo', 'https://www.whitehouse.gov/the-press-office/2013/11/22/daily-briefing-press-secretary-112213', 'https://www.whitehouse.gov/the-press-office/2013/11/21/briefing-principal-deputy-press-secretary-josh-earnest-112113', 'https://www.whitehouse.gov/the-press-office/2013/11/20/press-briefing-press-secretary-jay-carney-11192013']\n"
     ]
    }
   ],
   "source": [
    "import requests\n",
    "from bs4 import BeautifulSoup\n",
    "url = 'http://stash.compjour.org/samples/webpages/whitehouse-press-briefings-page-50.html'\n",
    "resp = requests.get(url)\n",
    "soup = BeautifulSoup(resp.text, 'lxml')\n",
    "\n",
    "urls = []\n",
    "for h in soup.find_all('h3'):\n",
    "    a = h.find('a')\n",
    "    urls.append(a.attrs['href'])\n",
    "    print(urls)"
   ]
  },
  {
   "cell_type": "code",
   "execution_count": null,
   "metadata": {},
   "outputs": [],
   "source": []
  }
 ],
 "metadata": {
  "kernelspec": {
   "display_name": "Python 3",
   "language": "python",
   "name": "python3"
  },
  "language_info": {
   "codemirror_mode": {
    "name": "ipython",
    "version": 3
   },
   "file_extension": ".py",
   "mimetype": "text/x-python",
   "name": "python",
   "nbconvert_exporter": "python",
   "pygments_lexer": "ipython3",
   "version": "3.6.5"
  }
 },
 "nbformat": 4,
 "nbformat_minor": 2
}
