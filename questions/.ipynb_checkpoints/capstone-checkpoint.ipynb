{
 "cells": [
  {
   "cell_type": "code",
   "execution_count": 1,
   "metadata": {},
   "outputs": [
    {
     "ename": "SyntaxError",
     "evalue": "invalid syntax (<ipython-input-1-7d1e02dae746>, line 1)",
     "output_type": "error",
     "traceback": [
      "\u001b[1;36m  File \u001b[1;32m\"<ipython-input-1-7d1e02dae746>\"\u001b[1;36m, line \u001b[1;32m1\u001b[0m\n\u001b[1;33m    Loading and Modeling Mail Data\u001b[0m\n\u001b[1;37m                            ^\u001b[0m\n\u001b[1;31mSyntaxError\u001b[0m\u001b[1;31m:\u001b[0m invalid syntax\n"
     ]
    }
   ],
   "source": [
    "Loading and Modeling Mail Data\n",
    "Done\n",
    "Welcome Aditya Modi from Capstone: Retrieving, Processing, and Visualizing Data with Python\n",
    "\n",
    "Mailing List Data - Part I\n",
    "In this assignment you will download some of the mailing list data from http://mbox.dr-chuck.net/ and run the data cleaning / modeling process and take some screen shots.\n",
    "\n",
    "Don't take off points for little mistakes. If they seem to have done the assignment give them full credit. Feel free to make suggestions if there are small mistakes. Please keep your comments positive and useful. \n",
    "Sample solution: http://www.py4e.com/code3/gmane.zip\n",
    "\n",
    "Please Upload Your Submission:\n",
    "\n",
    "A screen shot of your SQLiteBrowser showing messages downloaded from mbox.dr-chuck.net into the content.sqlite database \n",
    "(Please use PNG or JPG files)\n",
    "\n",
    "A screen shot of you running the gmodel.py application to produce the index.sqlite database. \n",
    "(Please use PNG or JPG files)\n",
    "\n",
    "A screen shot of your SQLiteBrowser showing messages in the index.sqlite database after the gmodel.py has executed. \n",
    "(Please use PNG or JPG files)\n",
    "\n",
    "A screen shot of you running the gbasic.py program to compute basic histogram data on the messages you have retrieved. \n",
    "(Please use PNG or JPG files)\n",
    "\n",
    "Enter optional comments below\n",
    "\n",
    "\n",
    "\n",
    "Make sure each uploaded image file is smaller than 1M. Total upload size limited to 50M\n",
    "\n",
    "The total number of points for this assignment is 10. You will get up to 4 points from your peers. You will get 2 for each peer assignment you assess. You need to grade a minimum of 3 peer assignments. You can grade up to 10 peer assignments if you like.\n",
    "\n",
    "Select Language​▼"
   ]
  },
  {
   "cell_type": "code",
   "execution_count": 2,
   "metadata": {},
   "outputs": [
    {
     "ename": "SyntaxError",
     "evalue": "invalid syntax (<ipython-input-2-7d12ca56a425>, line 1)",
     "output_type": "error",
     "traceback": [
      "\u001b[1;36m  File \u001b[1;32m\"<ipython-input-2-7d12ca56a425>\"\u001b[1;36m, line \u001b[1;32m1\u001b[0m\n\u001b[1;33m    Peer Grade: Page Rank\u001b[0m\n\u001b[1;37m             ^\u001b[0m\n\u001b[1;31mSyntaxError\u001b[0m\u001b[1;31m:\u001b[0m invalid syntax\n"
     ]
    }
   ],
   "source": [
    "Peer Grade: Page Rank\n",
    "Done\n",
    "Welcome Aditya Modi from Capstone: Retrieving, Processing, and Visualizing Data with Python\n",
    "\n",
    "Page Rank\n",
    "First you will spider 100 pages from http://python-data.dr-chuck.net/ run the page rank algorithm and take some screen shots. Then you will reset the spider process and spider 100 pages from any other site on the Internet, run the page rank algorithm, and take some screen shots.\n",
    "\n",
    "Don't take off points for little mistakes. If they seem to have done the assignment give them full credit. Feel free to make suggestions if there are small mistakes. Please keep your comments positive and useful. \n",
    "Sample solution: http://www.py4e.com/code3/pagerank.zip\n",
    "\n",
    "Please Upload Your Submission:\n",
    "\n",
    "A screen shot of the spdump.py running after you have crawled 100 pages from python-data.dr-chuck.net \n",
    "(Please use PNG or JPG files)\n",
    "\n",
    "A screen shot of the top 25 pages according to page rank that you crawled from python-data.dr-chuck.net visualized using force.html \n",
    "(Please use PNG or JPG files)\n",
    "\n",
    "A screen shot of the spdump.py running after you have crawled 100 pages from another web site \n",
    "(Please use PNG or JPG files)\n",
    "\n",
    "A screen shot of the top 25 pages according to page rank that you crawled from the other web site visualized using force.html \n",
    "(Please use PNG or JPG files)\n",
    "\n",
    "Enter optional comments below\n",
    "\n",
    "\n",
    "\n",
    "Make sure each uploaded image file is smaller than 1M. Total upload size limited to 50M\n",
    "\n",
    "The total number of points for this assignment is 10. You will get up to 4 points from your peers. You will get 2 for each peer assignment you assess. You need to grade a minimum of 3 peer assignments. You can grade up to 10 peer assignments if you like.\n",
    "\n",
    "Select Language​▼"
   ]
  },
  {
   "cell_type": "code",
   "execution_count": null,
   "metadata": {},
   "outputs": [],
   "source": [
    "Visualizing Email Data\n"
   ]
  }
 ],
 "metadata": {
  "kernelspec": {
   "display_name": "Python 3",
   "language": "python",
   "name": "python3"
  },
  "language_info": {
   "codemirror_mode": {
    "name": "ipython",
    "version": 3
   },
   "file_extension": ".py",
   "mimetype": "text/x-python",
   "name": "python",
   "nbconvert_exporter": "python",
   "pygments_lexer": "ipython3",
   "version": "3.6.5"
  }
 },
 "nbformat": 4,
 "nbformat_minor": 2
}
