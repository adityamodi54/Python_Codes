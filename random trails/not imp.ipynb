{
 "cells": [
  {
   "cell_type": "code",
   "execution_count": 1,
   "metadata": {},
   "outputs": [
    {
     "data": {
      "text/plain": [
       "'Welcome to the comments assignment from www.py4e.com'"
      ]
     },
     "execution_count": 1,
     "metadata": {},
     "output_type": "execute_result"
    }
   ],
   "source": [
    "import requests\n",
    "from bs4 import BeautifulSoup\n",
    " \n",
    "req = requests.get('http://py4e-data.dr-chuck.net/comments_42.html')\n",
    "soup = BeautifulSoup(req.text, \"lxml\")\n",
    " \n",
    "soup.title.string"
   ]
  },
  {
   "cell_type": "code",
   "execution_count": 2,
   "metadata": {},
   "outputs": [
    {
     "data": {
      "text/plain": [
       "'This file contains the sample data for testing'"
      ]
     },
     "execution_count": 2,
     "metadata": {},
     "output_type": "execute_result"
    }
   ],
   "source": [
    "soup.h1.string"
   ]
  },
  {
   "cell_type": "code",
   "execution_count": 119,
   "metadata": {},
   "outputs": [
    {
     "name": "stdout",
     "output_type": "stream",
     "text": [
      "97\n",
      "97\n",
      "90\n",
      "90\n",
      "88\n",
      "87\n",
      "87\n",
      "80\n",
      "79\n",
      "79\n",
      "78\n",
      "76\n",
      "76\n",
      "72\n",
      "72\n",
      "66\n",
      "66\n",
      "65\n",
      "65\n",
      "64\n",
      "61\n",
      "61\n",
      "59\n",
      "58\n",
      "57\n",
      "57\n",
      "54\n",
      "51\n",
      "49\n",
      "47\n",
      "40\n",
      "38\n",
      "37\n",
      "36\n",
      "36\n",
      "32\n",
      "25\n",
      "24\n",
      "22\n",
      "21\n",
      "19\n",
      "18\n",
      "18\n",
      "14\n",
      "12\n",
      "12\n",
      "9\n",
      "7\n",
      "3\n",
      "2\n"
     ]
    }
   ],
   "source": [
    "for sub_heading in soup.find_all('span'):\n",
    "    print(sub_heading.text)"
   ]
  },
  {
   "cell_type": "code",
   "execution_count": 4,
   "metadata": {
    "scrolled": true
   },
   "outputs": [
    {
     "name": "stdout",
     "output_type": "stream",
     "text": [
      "[<html>\n",
      "<head>\n",
      "<title>Welcome to the comments assignment from www.py4e.com</title>\n",
      "</head>\n",
      "<body>\n",
      "<h1>This file contains the sample data for testing</h1>\n",
      "<table border=\"2\">\n",
      "<tr>\n",
      "<td>Name</td><td>Comments</td>\n",
      "</tr>\n",
      "<tr><td>Romina</td><td><span class=\"comments\">97</span></td></tr>\n",
      "<tr><td>Laurie</td><td><span class=\"comments\">97</span></td></tr>\n",
      "<tr><td>Bayli</td><td><span class=\"comments\">90</span></td></tr>\n",
      "<tr><td>Siyona</td><td><span class=\"comments\">90</span></td></tr>\n",
      "<tr><td>Taisha</td><td><span class=\"comments\">88</span></td></tr>\n",
      "<tr><td>Alanda</td><td><span class=\"comments\">87</span></td></tr>\n",
      "<tr><td>Ameelia</td><td><span class=\"comments\">87</span></td></tr>\n",
      "<tr><td>Prasheeta</td><td><span class=\"comments\">80</span></td></tr>\n",
      "<tr><td>Asif</td><td><span class=\"comments\">79</span></td></tr>\n",
      "<tr><td>Risa</td><td><span class=\"comments\">79</span></td></tr>\n",
      "<tr><td>Zi</td><td><span class=\"comments\">78</span></td></tr>\n",
      "<tr><td>Danyil</td><td><span class=\"comments\">76</span></td></tr>\n",
      "<tr><td>Ediomi</td><td><span class=\"comments\">76</span></td></tr>\n",
      "<tr><td>Barry</td><td><span class=\"comments\">72</span></td></tr>\n",
      "<tr><td>Lance</td><td><span class=\"comments\">72</span></td></tr>\n",
      "<tr><td>Hattie</td><td><span class=\"comments\">66</span></td></tr>\n",
      "<tr><td>Mathu</td><td><span class=\"comments\">66</span></td></tr>\n",
      "<tr><td>Bowie</td><td><span class=\"comments\">65</span></td></tr>\n",
      "<tr><td>Samara</td><td><span class=\"comments\">65</span></td></tr>\n",
      "<tr><td>Uchenna</td><td><span class=\"comments\">64</span></td></tr>\n",
      "<tr><td>Shauni</td><td><span class=\"comments\">61</span></td></tr>\n",
      "<tr><td>Georgia</td><td><span class=\"comments\">61</span></td></tr>\n",
      "<tr><td>Rivan</td><td><span class=\"comments\">59</span></td></tr>\n",
      "<tr><td>Kenan</td><td><span class=\"comments\">58</span></td></tr>\n",
      "<tr><td>Hassan</td><td><span class=\"comments\">57</span></td></tr>\n",
      "<tr><td>Isma</td><td><span class=\"comments\">57</span></td></tr>\n",
      "<tr><td>Samanthalee</td><td><span class=\"comments\">54</span></td></tr>\n",
      "<tr><td>Alexa</td><td><span class=\"comments\">51</span></td></tr>\n",
      "<tr><td>Caine</td><td><span class=\"comments\">49</span></td></tr>\n",
      "<tr><td>Grady</td><td><span class=\"comments\">47</span></td></tr>\n",
      "<tr><td>Anne</td><td><span class=\"comments\">40</span></td></tr>\n",
      "<tr><td>Rihan</td><td><span class=\"comments\">38</span></td></tr>\n",
      "<tr><td>Alexei</td><td><span class=\"comments\">37</span></td></tr>\n",
      "<tr><td>Indie</td><td><span class=\"comments\">36</span></td></tr>\n",
      "<tr><td>Rhuairidh</td><td><span class=\"comments\">36</span></td></tr>\n",
      "<tr><td>Annoushka</td><td><span class=\"comments\">32</span></td></tr>\n",
      "<tr><td>Kenzi</td><td><span class=\"comments\">25</span></td></tr>\n",
      "<tr><td>Shahd</td><td><span class=\"comments\">24</span></td></tr>\n",
      "<tr><td>Irvine</td><td><span class=\"comments\">22</span></td></tr>\n",
      "<tr><td>Carys</td><td><span class=\"comments\">21</span></td></tr>\n",
      "<tr><td>Skye</td><td><span class=\"comments\">19</span></td></tr>\n",
      "<tr><td>Atiya</td><td><span class=\"comments\">18</span></td></tr>\n",
      "<tr><td>Rohan</td><td><span class=\"comments\">18</span></td></tr>\n",
      "<tr><td>Nuala</td><td><span class=\"comments\">14</span></td></tr>\n",
      "<tr><td>Maram</td><td><span class=\"comments\">12</span></td></tr>\n",
      "<tr><td>Carlo</td><td><span class=\"comments\">12</span></td></tr>\n",
      "<tr><td>Japleen</td><td><span class=\"comments\">9</span></td></tr>\n",
      "<tr><td>Breeanna</td><td><span class=\"comments\">7</span></td></tr>\n",
      "<tr><td>Zaaine</td><td><span class=\"comments\">3</span></td></tr>\n",
      "<tr><td>Inika</td><td><span class=\"comments\">2</span></td></tr>\n",
      "</table>\n",
      "</body>\n",
      "</html>, '\\n']\n"
     ]
    }
   ],
   "source": [
    "print(soup.contents)"
   ]
  },
  {
   "cell_type": "code",
   "execution_count": 31,
   "metadata": {},
   "outputs": [
    {
     "ename": "AttributeError",
     "evalue": "'list' object has no attribute 'tr'",
     "output_type": "error",
     "traceback": [
      "\u001b[1;31m---------------------------------------------------------------------------\u001b[0m",
      "\u001b[1;31mAttributeError\u001b[0m                            Traceback (most recent call last)",
      "\u001b[1;32m<ipython-input-31-ab631af534d8>\u001b[0m in \u001b[0;36m<module>\u001b[1;34m()\u001b[0m\n\u001b[1;32m----> 1\u001b[1;33m \u001b[0mprint\u001b[0m\u001b[1;33m(\u001b[0m\u001b[0msoup\u001b[0m\u001b[1;33m.\u001b[0m\u001b[0mcontents\u001b[0m\u001b[1;33m.\u001b[0m\u001b[0mtr\u001b[0m\u001b[1;33m[\u001b[0m\u001b[1;36m0\u001b[0m\u001b[1;33m]\u001b[0m\u001b[1;33m)\u001b[0m\u001b[1;33m\u001b[0m\u001b[0m\n\u001b[0m",
      "\u001b[1;31mAttributeError\u001b[0m: 'list' object has no attribute 'tr'"
     ]
    }
   ],
   "source": [
    "print(soup.contents.tr[0])"
   ]
  },
  {
   "cell_type": "code",
   "execution_count": 22,
   "metadata": {},
   "outputs": [
    {
     "name": "stdout",
     "output_type": "stream",
     "text": [
      "<span class=\"comments\">97</span>\n"
     ]
    }
   ],
   "source": [
    "print(soup.span)"
   ]
  },
  {
   "cell_type": "code",
   "execution_count": 26,
   "metadata": {},
   "outputs": [
    {
     "name": "stdout",
     "output_type": "stream",
     "text": [
      "None\n"
     ]
    }
   ],
   "source": [
    "for parent in soup.td:\n",
    "    print(parent.name)"
   ]
  },
  {
   "cell_type": "code",
   "execution_count": 29,
   "metadata": {},
   "outputs": [
    {
     "name": "stdout",
     "output_type": "stream",
     "text": [
      "[<h1>This file contains the sample data for testing</h1>]\n"
     ]
    }
   ],
   "source": [
    "heds = soup.find_all('h1')\n",
    "print(heds)\n",
    " "
   ]
  },
  {
   "cell_type": "code",
   "execution_count": 73,
   "metadata": {},
   "outputs": [
    {
     "name": "stdout",
     "output_type": "stream",
     "text": [
      "[<span class=\"comments\">97</span>, <span class=\"comments\">97</span>, <span class=\"comments\">90</span>, <span class=\"comments\">90</span>, <span class=\"comments\">88</span>, <span class=\"comments\">87</span>, <span class=\"comments\">87</span>, <span class=\"comments\">80</span>, <span class=\"comments\">79</span>, <span class=\"comments\">79</span>, <span class=\"comments\">78</span>, <span class=\"comments\">76</span>, <span class=\"comments\">76</span>, <span class=\"comments\">72</span>, <span class=\"comments\">72</span>, <span class=\"comments\">66</span>, <span class=\"comments\">66</span>, <span class=\"comments\">65</span>, <span class=\"comments\">65</span>, <span class=\"comments\">64</span>, <span class=\"comments\">61</span>, <span class=\"comments\">61</span>, <span class=\"comments\">59</span>, <span class=\"comments\">58</span>, <span class=\"comments\">57</span>, <span class=\"comments\">57</span>, <span class=\"comments\">54</span>, <span class=\"comments\">51</span>, <span class=\"comments\">49</span>, <span class=\"comments\">47</span>, <span class=\"comments\">40</span>, <span class=\"comments\">38</span>, <span class=\"comments\">37</span>, <span class=\"comments\">36</span>, <span class=\"comments\">36</span>, <span class=\"comments\">32</span>, <span class=\"comments\">25</span>, <span class=\"comments\">24</span>, <span class=\"comments\">22</span>, <span class=\"comments\">21</span>, <span class=\"comments\">19</span>, <span class=\"comments\">18</span>, <span class=\"comments\">18</span>, <span class=\"comments\">14</span>, <span class=\"comments\">12</span>, <span class=\"comments\">12</span>, <span class=\"comments\">9</span>, <span class=\"comments\">7</span>, <span class=\"comments\">3</span>, <span class=\"comments\">2</span>]\n"
     ]
    }
   ],
   "source": [
    "heds = soup.find_all('span')\n",
    "print(heds)\n",
    " "
   ]
  },
  {
   "cell_type": "code",
   "execution_count": 71,
   "metadata": {},
   "outputs": [
    {
     "name": "stdout",
     "output_type": "stream",
     "text": [
      "[<span class=\"comments\">97</span>]\n",
      "[<span class=\"comments\">97</span>, <span class=\"comments\">97</span>]\n",
      "[<span class=\"comments\">97</span>, <span class=\"comments\">97</span>, <span class=\"comments\">90</span>]\n",
      "[<span class=\"comments\">97</span>, <span class=\"comments\">97</span>, <span class=\"comments\">90</span>, <span class=\"comments\">90</span>]\n",
      "[<span class=\"comments\">97</span>, <span class=\"comments\">97</span>, <span class=\"comments\">90</span>, <span class=\"comments\">90</span>, <span class=\"comments\">88</span>]\n",
      "[<span class=\"comments\">97</span>, <span class=\"comments\">97</span>, <span class=\"comments\">90</span>, <span class=\"comments\">90</span>, <span class=\"comments\">88</span>, <span class=\"comments\">87</span>]\n",
      "[<span class=\"comments\">97</span>, <span class=\"comments\">97</span>, <span class=\"comments\">90</span>, <span class=\"comments\">90</span>, <span class=\"comments\">88</span>, <span class=\"comments\">87</span>, <span class=\"comments\">87</span>]\n",
      "[<span class=\"comments\">97</span>, <span class=\"comments\">97</span>, <span class=\"comments\">90</span>, <span class=\"comments\">90</span>, <span class=\"comments\">88</span>, <span class=\"comments\">87</span>, <span class=\"comments\">87</span>, <span class=\"comments\">80</span>]\n",
      "[<span class=\"comments\">97</span>, <span class=\"comments\">97</span>, <span class=\"comments\">90</span>, <span class=\"comments\">90</span>, <span class=\"comments\">88</span>, <span class=\"comments\">87</span>, <span class=\"comments\">87</span>, <span class=\"comments\">80</span>, <span class=\"comments\">79</span>]\n",
      "[<span class=\"comments\">97</span>, <span class=\"comments\">97</span>, <span class=\"comments\">90</span>, <span class=\"comments\">90</span>, <span class=\"comments\">88</span>, <span class=\"comments\">87</span>, <span class=\"comments\">87</span>, <span class=\"comments\">80</span>, <span class=\"comments\">79</span>, <span class=\"comments\">79</span>]\n",
      "[<span class=\"comments\">97</span>, <span class=\"comments\">97</span>, <span class=\"comments\">90</span>, <span class=\"comments\">90</span>, <span class=\"comments\">88</span>, <span class=\"comments\">87</span>, <span class=\"comments\">87</span>, <span class=\"comments\">80</span>, <span class=\"comments\">79</span>, <span class=\"comments\">79</span>, <span class=\"comments\">78</span>]\n",
      "[<span class=\"comments\">97</span>, <span class=\"comments\">97</span>, <span class=\"comments\">90</span>, <span class=\"comments\">90</span>, <span class=\"comments\">88</span>, <span class=\"comments\">87</span>, <span class=\"comments\">87</span>, <span class=\"comments\">80</span>, <span class=\"comments\">79</span>, <span class=\"comments\">79</span>, <span class=\"comments\">78</span>, <span class=\"comments\">76</span>]\n",
      "[<span class=\"comments\">97</span>, <span class=\"comments\">97</span>, <span class=\"comments\">90</span>, <span class=\"comments\">90</span>, <span class=\"comments\">88</span>, <span class=\"comments\">87</span>, <span class=\"comments\">87</span>, <span class=\"comments\">80</span>, <span class=\"comments\">79</span>, <span class=\"comments\">79</span>, <span class=\"comments\">78</span>, <span class=\"comments\">76</span>, <span class=\"comments\">76</span>]\n",
      "[<span class=\"comments\">97</span>, <span class=\"comments\">97</span>, <span class=\"comments\">90</span>, <span class=\"comments\">90</span>, <span class=\"comments\">88</span>, <span class=\"comments\">87</span>, <span class=\"comments\">87</span>, <span class=\"comments\">80</span>, <span class=\"comments\">79</span>, <span class=\"comments\">79</span>, <span class=\"comments\">78</span>, <span class=\"comments\">76</span>, <span class=\"comments\">76</span>, <span class=\"comments\">72</span>]\n",
      "[<span class=\"comments\">97</span>, <span class=\"comments\">97</span>, <span class=\"comments\">90</span>, <span class=\"comments\">90</span>, <span class=\"comments\">88</span>, <span class=\"comments\">87</span>, <span class=\"comments\">87</span>, <span class=\"comments\">80</span>, <span class=\"comments\">79</span>, <span class=\"comments\">79</span>, <span class=\"comments\">78</span>, <span class=\"comments\">76</span>, <span class=\"comments\">76</span>, <span class=\"comments\">72</span>, <span class=\"comments\">72</span>]\n",
      "[<span class=\"comments\">97</span>, <span class=\"comments\">97</span>, <span class=\"comments\">90</span>, <span class=\"comments\">90</span>, <span class=\"comments\">88</span>, <span class=\"comments\">87</span>, <span class=\"comments\">87</span>, <span class=\"comments\">80</span>, <span class=\"comments\">79</span>, <span class=\"comments\">79</span>, <span class=\"comments\">78</span>, <span class=\"comments\">76</span>, <span class=\"comments\">76</span>, <span class=\"comments\">72</span>, <span class=\"comments\">72</span>, <span class=\"comments\">66</span>]\n",
      "[<span class=\"comments\">97</span>, <span class=\"comments\">97</span>, <span class=\"comments\">90</span>, <span class=\"comments\">90</span>, <span class=\"comments\">88</span>, <span class=\"comments\">87</span>, <span class=\"comments\">87</span>, <span class=\"comments\">80</span>, <span class=\"comments\">79</span>, <span class=\"comments\">79</span>, <span class=\"comments\">78</span>, <span class=\"comments\">76</span>, <span class=\"comments\">76</span>, <span class=\"comments\">72</span>, <span class=\"comments\">72</span>, <span class=\"comments\">66</span>, <span class=\"comments\">66</span>]\n",
      "[<span class=\"comments\">97</span>, <span class=\"comments\">97</span>, <span class=\"comments\">90</span>, <span class=\"comments\">90</span>, <span class=\"comments\">88</span>, <span class=\"comments\">87</span>, <span class=\"comments\">87</span>, <span class=\"comments\">80</span>, <span class=\"comments\">79</span>, <span class=\"comments\">79</span>, <span class=\"comments\">78</span>, <span class=\"comments\">76</span>, <span class=\"comments\">76</span>, <span class=\"comments\">72</span>, <span class=\"comments\">72</span>, <span class=\"comments\">66</span>, <span class=\"comments\">66</span>, <span class=\"comments\">65</span>]\n",
      "[<span class=\"comments\">97</span>, <span class=\"comments\">97</span>, <span class=\"comments\">90</span>, <span class=\"comments\">90</span>, <span class=\"comments\">88</span>, <span class=\"comments\">87</span>, <span class=\"comments\">87</span>, <span class=\"comments\">80</span>, <span class=\"comments\">79</span>, <span class=\"comments\">79</span>, <span class=\"comments\">78</span>, <span class=\"comments\">76</span>, <span class=\"comments\">76</span>, <span class=\"comments\">72</span>, <span class=\"comments\">72</span>, <span class=\"comments\">66</span>, <span class=\"comments\">66</span>, <span class=\"comments\">65</span>, <span class=\"comments\">65</span>]\n",
      "[<span class=\"comments\">97</span>, <span class=\"comments\">97</span>, <span class=\"comments\">90</span>, <span class=\"comments\">90</span>, <span class=\"comments\">88</span>, <span class=\"comments\">87</span>, <span class=\"comments\">87</span>, <span class=\"comments\">80</span>, <span class=\"comments\">79</span>, <span class=\"comments\">79</span>, <span class=\"comments\">78</span>, <span class=\"comments\">76</span>, <span class=\"comments\">76</span>, <span class=\"comments\">72</span>, <span class=\"comments\">72</span>, <span class=\"comments\">66</span>, <span class=\"comments\">66</span>, <span class=\"comments\">65</span>, <span class=\"comments\">65</span>, <span class=\"comments\">64</span>]\n",
      "[<span class=\"comments\">97</span>, <span class=\"comments\">97</span>, <span class=\"comments\">90</span>, <span class=\"comments\">90</span>, <span class=\"comments\">88</span>, <span class=\"comments\">87</span>, <span class=\"comments\">87</span>, <span class=\"comments\">80</span>, <span class=\"comments\">79</span>, <span class=\"comments\">79</span>, <span class=\"comments\">78</span>, <span class=\"comments\">76</span>, <span class=\"comments\">76</span>, <span class=\"comments\">72</span>, <span class=\"comments\">72</span>, <span class=\"comments\">66</span>, <span class=\"comments\">66</span>, <span class=\"comments\">65</span>, <span class=\"comments\">65</span>, <span class=\"comments\">64</span>, <span class=\"comments\">61</span>]\n",
      "[<span class=\"comments\">97</span>, <span class=\"comments\">97</span>, <span class=\"comments\">90</span>, <span class=\"comments\">90</span>, <span class=\"comments\">88</span>, <span class=\"comments\">87</span>, <span class=\"comments\">87</span>, <span class=\"comments\">80</span>, <span class=\"comments\">79</span>, <span class=\"comments\">79</span>, <span class=\"comments\">78</span>, <span class=\"comments\">76</span>, <span class=\"comments\">76</span>, <span class=\"comments\">72</span>, <span class=\"comments\">72</span>, <span class=\"comments\">66</span>, <span class=\"comments\">66</span>, <span class=\"comments\">65</span>, <span class=\"comments\">65</span>, <span class=\"comments\">64</span>, <span class=\"comments\">61</span>, <span class=\"comments\">61</span>]\n",
      "[<span class=\"comments\">97</span>, <span class=\"comments\">97</span>, <span class=\"comments\">90</span>, <span class=\"comments\">90</span>, <span class=\"comments\">88</span>, <span class=\"comments\">87</span>, <span class=\"comments\">87</span>, <span class=\"comments\">80</span>, <span class=\"comments\">79</span>, <span class=\"comments\">79</span>, <span class=\"comments\">78</span>, <span class=\"comments\">76</span>, <span class=\"comments\">76</span>, <span class=\"comments\">72</span>, <span class=\"comments\">72</span>, <span class=\"comments\">66</span>, <span class=\"comments\">66</span>, <span class=\"comments\">65</span>, <span class=\"comments\">65</span>, <span class=\"comments\">64</span>, <span class=\"comments\">61</span>, <span class=\"comments\">61</span>, <span class=\"comments\">59</span>]\n",
      "[<span class=\"comments\">97</span>, <span class=\"comments\">97</span>, <span class=\"comments\">90</span>, <span class=\"comments\">90</span>, <span class=\"comments\">88</span>, <span class=\"comments\">87</span>, <span class=\"comments\">87</span>, <span class=\"comments\">80</span>, <span class=\"comments\">79</span>, <span class=\"comments\">79</span>, <span class=\"comments\">78</span>, <span class=\"comments\">76</span>, <span class=\"comments\">76</span>, <span class=\"comments\">72</span>, <span class=\"comments\">72</span>, <span class=\"comments\">66</span>, <span class=\"comments\">66</span>, <span class=\"comments\">65</span>, <span class=\"comments\">65</span>, <span class=\"comments\">64</span>, <span class=\"comments\">61</span>, <span class=\"comments\">61</span>, <span class=\"comments\">59</span>, <span class=\"comments\">58</span>]\n",
      "[<span class=\"comments\">97</span>, <span class=\"comments\">97</span>, <span class=\"comments\">90</span>, <span class=\"comments\">90</span>, <span class=\"comments\">88</span>, <span class=\"comments\">87</span>, <span class=\"comments\">87</span>, <span class=\"comments\">80</span>, <span class=\"comments\">79</span>, <span class=\"comments\">79</span>, <span class=\"comments\">78</span>, <span class=\"comments\">76</span>, <span class=\"comments\">76</span>, <span class=\"comments\">72</span>, <span class=\"comments\">72</span>, <span class=\"comments\">66</span>, <span class=\"comments\">66</span>, <span class=\"comments\">65</span>, <span class=\"comments\">65</span>, <span class=\"comments\">64</span>, <span class=\"comments\">61</span>, <span class=\"comments\">61</span>, <span class=\"comments\">59</span>, <span class=\"comments\">58</span>, <span class=\"comments\">57</span>]\n",
      "[<span class=\"comments\">97</span>, <span class=\"comments\">97</span>, <span class=\"comments\">90</span>, <span class=\"comments\">90</span>, <span class=\"comments\">88</span>, <span class=\"comments\">87</span>, <span class=\"comments\">87</span>, <span class=\"comments\">80</span>, <span class=\"comments\">79</span>, <span class=\"comments\">79</span>, <span class=\"comments\">78</span>, <span class=\"comments\">76</span>, <span class=\"comments\">76</span>, <span class=\"comments\">72</span>, <span class=\"comments\">72</span>, <span class=\"comments\">66</span>, <span class=\"comments\">66</span>, <span class=\"comments\">65</span>, <span class=\"comments\">65</span>, <span class=\"comments\">64</span>, <span class=\"comments\">61</span>, <span class=\"comments\">61</span>, <span class=\"comments\">59</span>, <span class=\"comments\">58</span>, <span class=\"comments\">57</span>, <span class=\"comments\">57</span>]\n",
      "[<span class=\"comments\">97</span>, <span class=\"comments\">97</span>, <span class=\"comments\">90</span>, <span class=\"comments\">90</span>, <span class=\"comments\">88</span>, <span class=\"comments\">87</span>, <span class=\"comments\">87</span>, <span class=\"comments\">80</span>, <span class=\"comments\">79</span>, <span class=\"comments\">79</span>, <span class=\"comments\">78</span>, <span class=\"comments\">76</span>, <span class=\"comments\">76</span>, <span class=\"comments\">72</span>, <span class=\"comments\">72</span>, <span class=\"comments\">66</span>, <span class=\"comments\">66</span>, <span class=\"comments\">65</span>, <span class=\"comments\">65</span>, <span class=\"comments\">64</span>, <span class=\"comments\">61</span>, <span class=\"comments\">61</span>, <span class=\"comments\">59</span>, <span class=\"comments\">58</span>, <span class=\"comments\">57</span>, <span class=\"comments\">57</span>, <span class=\"comments\">54</span>]\n",
      "[<span class=\"comments\">97</span>, <span class=\"comments\">97</span>, <span class=\"comments\">90</span>, <span class=\"comments\">90</span>, <span class=\"comments\">88</span>, <span class=\"comments\">87</span>, <span class=\"comments\">87</span>, <span class=\"comments\">80</span>, <span class=\"comments\">79</span>, <span class=\"comments\">79</span>, <span class=\"comments\">78</span>, <span class=\"comments\">76</span>, <span class=\"comments\">76</span>, <span class=\"comments\">72</span>, <span class=\"comments\">72</span>, <span class=\"comments\">66</span>, <span class=\"comments\">66</span>, <span class=\"comments\">65</span>, <span class=\"comments\">65</span>, <span class=\"comments\">64</span>, <span class=\"comments\">61</span>, <span class=\"comments\">61</span>, <span class=\"comments\">59</span>, <span class=\"comments\">58</span>, <span class=\"comments\">57</span>, <span class=\"comments\">57</span>, <span class=\"comments\">54</span>, <span class=\"comments\">51</span>]\n",
      "[<span class=\"comments\">97</span>, <span class=\"comments\">97</span>, <span class=\"comments\">90</span>, <span class=\"comments\">90</span>, <span class=\"comments\">88</span>, <span class=\"comments\">87</span>, <span class=\"comments\">87</span>, <span class=\"comments\">80</span>, <span class=\"comments\">79</span>, <span class=\"comments\">79</span>, <span class=\"comments\">78</span>, <span class=\"comments\">76</span>, <span class=\"comments\">76</span>, <span class=\"comments\">72</span>, <span class=\"comments\">72</span>, <span class=\"comments\">66</span>, <span class=\"comments\">66</span>, <span class=\"comments\">65</span>, <span class=\"comments\">65</span>, <span class=\"comments\">64</span>, <span class=\"comments\">61</span>, <span class=\"comments\">61</span>, <span class=\"comments\">59</span>, <span class=\"comments\">58</span>, <span class=\"comments\">57</span>, <span class=\"comments\">57</span>, <span class=\"comments\">54</span>, <span class=\"comments\">51</span>, <span class=\"comments\">49</span>]\n",
      "[<span class=\"comments\">97</span>, <span class=\"comments\">97</span>, <span class=\"comments\">90</span>, <span class=\"comments\">90</span>, <span class=\"comments\">88</span>, <span class=\"comments\">87</span>, <span class=\"comments\">87</span>, <span class=\"comments\">80</span>, <span class=\"comments\">79</span>, <span class=\"comments\">79</span>, <span class=\"comments\">78</span>, <span class=\"comments\">76</span>, <span class=\"comments\">76</span>, <span class=\"comments\">72</span>, <span class=\"comments\">72</span>, <span class=\"comments\">66</span>, <span class=\"comments\">66</span>, <span class=\"comments\">65</span>, <span class=\"comments\">65</span>, <span class=\"comments\">64</span>, <span class=\"comments\">61</span>, <span class=\"comments\">61</span>, <span class=\"comments\">59</span>, <span class=\"comments\">58</span>, <span class=\"comments\">57</span>, <span class=\"comments\">57</span>, <span class=\"comments\">54</span>, <span class=\"comments\">51</span>, <span class=\"comments\">49</span>, <span class=\"comments\">47</span>]\n",
      "[<span class=\"comments\">97</span>, <span class=\"comments\">97</span>, <span class=\"comments\">90</span>, <span class=\"comments\">90</span>, <span class=\"comments\">88</span>, <span class=\"comments\">87</span>, <span class=\"comments\">87</span>, <span class=\"comments\">80</span>, <span class=\"comments\">79</span>, <span class=\"comments\">79</span>, <span class=\"comments\">78</span>, <span class=\"comments\">76</span>, <span class=\"comments\">76</span>, <span class=\"comments\">72</span>, <span class=\"comments\">72</span>, <span class=\"comments\">66</span>, <span class=\"comments\">66</span>, <span class=\"comments\">65</span>, <span class=\"comments\">65</span>, <span class=\"comments\">64</span>, <span class=\"comments\">61</span>, <span class=\"comments\">61</span>, <span class=\"comments\">59</span>, <span class=\"comments\">58</span>, <span class=\"comments\">57</span>, <span class=\"comments\">57</span>, <span class=\"comments\">54</span>, <span class=\"comments\">51</span>, <span class=\"comments\">49</span>, <span class=\"comments\">47</span>, <span class=\"comments\">40</span>]\n",
      "[<span class=\"comments\">97</span>, <span class=\"comments\">97</span>, <span class=\"comments\">90</span>, <span class=\"comments\">90</span>, <span class=\"comments\">88</span>, <span class=\"comments\">87</span>, <span class=\"comments\">87</span>, <span class=\"comments\">80</span>, <span class=\"comments\">79</span>, <span class=\"comments\">79</span>, <span class=\"comments\">78</span>, <span class=\"comments\">76</span>, <span class=\"comments\">76</span>, <span class=\"comments\">72</span>, <span class=\"comments\">72</span>, <span class=\"comments\">66</span>, <span class=\"comments\">66</span>, <span class=\"comments\">65</span>, <span class=\"comments\">65</span>, <span class=\"comments\">64</span>, <span class=\"comments\">61</span>, <span class=\"comments\">61</span>, <span class=\"comments\">59</span>, <span class=\"comments\">58</span>, <span class=\"comments\">57</span>, <span class=\"comments\">57</span>, <span class=\"comments\">54</span>, <span class=\"comments\">51</span>, <span class=\"comments\">49</span>, <span class=\"comments\">47</span>, <span class=\"comments\">40</span>, <span class=\"comments\">38</span>]\n",
      "[<span class=\"comments\">97</span>, <span class=\"comments\">97</span>, <span class=\"comments\">90</span>, <span class=\"comments\">90</span>, <span class=\"comments\">88</span>, <span class=\"comments\">87</span>, <span class=\"comments\">87</span>, <span class=\"comments\">80</span>, <span class=\"comments\">79</span>, <span class=\"comments\">79</span>, <span class=\"comments\">78</span>, <span class=\"comments\">76</span>, <span class=\"comments\">76</span>, <span class=\"comments\">72</span>, <span class=\"comments\">72</span>, <span class=\"comments\">66</span>, <span class=\"comments\">66</span>, <span class=\"comments\">65</span>, <span class=\"comments\">65</span>, <span class=\"comments\">64</span>, <span class=\"comments\">61</span>, <span class=\"comments\">61</span>, <span class=\"comments\">59</span>, <span class=\"comments\">58</span>, <span class=\"comments\">57</span>, <span class=\"comments\">57</span>, <span class=\"comments\">54</span>, <span class=\"comments\">51</span>, <span class=\"comments\">49</span>, <span class=\"comments\">47</span>, <span class=\"comments\">40</span>, <span class=\"comments\">38</span>, <span class=\"comments\">37</span>]\n",
      "[<span class=\"comments\">97</span>, <span class=\"comments\">97</span>, <span class=\"comments\">90</span>, <span class=\"comments\">90</span>, <span class=\"comments\">88</span>, <span class=\"comments\">87</span>, <span class=\"comments\">87</span>, <span class=\"comments\">80</span>, <span class=\"comments\">79</span>, <span class=\"comments\">79</span>, <span class=\"comments\">78</span>, <span class=\"comments\">76</span>, <span class=\"comments\">76</span>, <span class=\"comments\">72</span>, <span class=\"comments\">72</span>, <span class=\"comments\">66</span>, <span class=\"comments\">66</span>, <span class=\"comments\">65</span>, <span class=\"comments\">65</span>, <span class=\"comments\">64</span>, <span class=\"comments\">61</span>, <span class=\"comments\">61</span>, <span class=\"comments\">59</span>, <span class=\"comments\">58</span>, <span class=\"comments\">57</span>, <span class=\"comments\">57</span>, <span class=\"comments\">54</span>, <span class=\"comments\">51</span>, <span class=\"comments\">49</span>, <span class=\"comments\">47</span>, <span class=\"comments\">40</span>, <span class=\"comments\">38</span>, <span class=\"comments\">37</span>, <span class=\"comments\">36</span>]\n",
      "[<span class=\"comments\">97</span>, <span class=\"comments\">97</span>, <span class=\"comments\">90</span>, <span class=\"comments\">90</span>, <span class=\"comments\">88</span>, <span class=\"comments\">87</span>, <span class=\"comments\">87</span>, <span class=\"comments\">80</span>, <span class=\"comments\">79</span>, <span class=\"comments\">79</span>, <span class=\"comments\">78</span>, <span class=\"comments\">76</span>, <span class=\"comments\">76</span>, <span class=\"comments\">72</span>, <span class=\"comments\">72</span>, <span class=\"comments\">66</span>, <span class=\"comments\">66</span>, <span class=\"comments\">65</span>, <span class=\"comments\">65</span>, <span class=\"comments\">64</span>, <span class=\"comments\">61</span>, <span class=\"comments\">61</span>, <span class=\"comments\">59</span>, <span class=\"comments\">58</span>, <span class=\"comments\">57</span>, <span class=\"comments\">57</span>, <span class=\"comments\">54</span>, <span class=\"comments\">51</span>, <span class=\"comments\">49</span>, <span class=\"comments\">47</span>, <span class=\"comments\">40</span>, <span class=\"comments\">38</span>, <span class=\"comments\">37</span>, <span class=\"comments\">36</span>, <span class=\"comments\">36</span>]\n",
      "[<span class=\"comments\">97</span>, <span class=\"comments\">97</span>, <span class=\"comments\">90</span>, <span class=\"comments\">90</span>, <span class=\"comments\">88</span>, <span class=\"comments\">87</span>, <span class=\"comments\">87</span>, <span class=\"comments\">80</span>, <span class=\"comments\">79</span>, <span class=\"comments\">79</span>, <span class=\"comments\">78</span>, <span class=\"comments\">76</span>, <span class=\"comments\">76</span>, <span class=\"comments\">72</span>, <span class=\"comments\">72</span>, <span class=\"comments\">66</span>, <span class=\"comments\">66</span>, <span class=\"comments\">65</span>, <span class=\"comments\">65</span>, <span class=\"comments\">64</span>, <span class=\"comments\">61</span>, <span class=\"comments\">61</span>, <span class=\"comments\">59</span>, <span class=\"comments\">58</span>, <span class=\"comments\">57</span>, <span class=\"comments\">57</span>, <span class=\"comments\">54</span>, <span class=\"comments\">51</span>, <span class=\"comments\">49</span>, <span class=\"comments\">47</span>, <span class=\"comments\">40</span>, <span class=\"comments\">38</span>, <span class=\"comments\">37</span>, <span class=\"comments\">36</span>, <span class=\"comments\">36</span>, <span class=\"comments\">32</span>]\n",
      "[<span class=\"comments\">97</span>, <span class=\"comments\">97</span>, <span class=\"comments\">90</span>, <span class=\"comments\">90</span>, <span class=\"comments\">88</span>, <span class=\"comments\">87</span>, <span class=\"comments\">87</span>, <span class=\"comments\">80</span>, <span class=\"comments\">79</span>, <span class=\"comments\">79</span>, <span class=\"comments\">78</span>, <span class=\"comments\">76</span>, <span class=\"comments\">76</span>, <span class=\"comments\">72</span>, <span class=\"comments\">72</span>, <span class=\"comments\">66</span>, <span class=\"comments\">66</span>, <span class=\"comments\">65</span>, <span class=\"comments\">65</span>, <span class=\"comments\">64</span>, <span class=\"comments\">61</span>, <span class=\"comments\">61</span>, <span class=\"comments\">59</span>, <span class=\"comments\">58</span>, <span class=\"comments\">57</span>, <span class=\"comments\">57</span>, <span class=\"comments\">54</span>, <span class=\"comments\">51</span>, <span class=\"comments\">49</span>, <span class=\"comments\">47</span>, <span class=\"comments\">40</span>, <span class=\"comments\">38</span>, <span class=\"comments\">37</span>, <span class=\"comments\">36</span>, <span class=\"comments\">36</span>, <span class=\"comments\">32</span>, <span class=\"comments\">25</span>]\n",
      "[<span class=\"comments\">97</span>, <span class=\"comments\">97</span>, <span class=\"comments\">90</span>, <span class=\"comments\">90</span>, <span class=\"comments\">88</span>, <span class=\"comments\">87</span>, <span class=\"comments\">87</span>, <span class=\"comments\">80</span>, <span class=\"comments\">79</span>, <span class=\"comments\">79</span>, <span class=\"comments\">78</span>, <span class=\"comments\">76</span>, <span class=\"comments\">76</span>, <span class=\"comments\">72</span>, <span class=\"comments\">72</span>, <span class=\"comments\">66</span>, <span class=\"comments\">66</span>, <span class=\"comments\">65</span>, <span class=\"comments\">65</span>, <span class=\"comments\">64</span>, <span class=\"comments\">61</span>, <span class=\"comments\">61</span>, <span class=\"comments\">59</span>, <span class=\"comments\">58</span>, <span class=\"comments\">57</span>, <span class=\"comments\">57</span>, <span class=\"comments\">54</span>, <span class=\"comments\">51</span>, <span class=\"comments\">49</span>, <span class=\"comments\">47</span>, <span class=\"comments\">40</span>, <span class=\"comments\">38</span>, <span class=\"comments\">37</span>, <span class=\"comments\">36</span>, <span class=\"comments\">36</span>, <span class=\"comments\">32</span>, <span class=\"comments\">25</span>, <span class=\"comments\">24</span>]\n",
      "[<span class=\"comments\">97</span>, <span class=\"comments\">97</span>, <span class=\"comments\">90</span>, <span class=\"comments\">90</span>, <span class=\"comments\">88</span>, <span class=\"comments\">87</span>, <span class=\"comments\">87</span>, <span class=\"comments\">80</span>, <span class=\"comments\">79</span>, <span class=\"comments\">79</span>, <span class=\"comments\">78</span>, <span class=\"comments\">76</span>, <span class=\"comments\">76</span>, <span class=\"comments\">72</span>, <span class=\"comments\">72</span>, <span class=\"comments\">66</span>, <span class=\"comments\">66</span>, <span class=\"comments\">65</span>, <span class=\"comments\">65</span>, <span class=\"comments\">64</span>, <span class=\"comments\">61</span>, <span class=\"comments\">61</span>, <span class=\"comments\">59</span>, <span class=\"comments\">58</span>, <span class=\"comments\">57</span>, <span class=\"comments\">57</span>, <span class=\"comments\">54</span>, <span class=\"comments\">51</span>, <span class=\"comments\">49</span>, <span class=\"comments\">47</span>, <span class=\"comments\">40</span>, <span class=\"comments\">38</span>, <span class=\"comments\">37</span>, <span class=\"comments\">36</span>, <span class=\"comments\">36</span>, <span class=\"comments\">32</span>, <span class=\"comments\">25</span>, <span class=\"comments\">24</span>, <span class=\"comments\">22</span>]\n",
      "[<span class=\"comments\">97</span>, <span class=\"comments\">97</span>, <span class=\"comments\">90</span>, <span class=\"comments\">90</span>, <span class=\"comments\">88</span>, <span class=\"comments\">87</span>, <span class=\"comments\">87</span>, <span class=\"comments\">80</span>, <span class=\"comments\">79</span>, <span class=\"comments\">79</span>, <span class=\"comments\">78</span>, <span class=\"comments\">76</span>, <span class=\"comments\">76</span>, <span class=\"comments\">72</span>, <span class=\"comments\">72</span>, <span class=\"comments\">66</span>, <span class=\"comments\">66</span>, <span class=\"comments\">65</span>, <span class=\"comments\">65</span>, <span class=\"comments\">64</span>, <span class=\"comments\">61</span>, <span class=\"comments\">61</span>, <span class=\"comments\">59</span>, <span class=\"comments\">58</span>, <span class=\"comments\">57</span>, <span class=\"comments\">57</span>, <span class=\"comments\">54</span>, <span class=\"comments\">51</span>, <span class=\"comments\">49</span>, <span class=\"comments\">47</span>, <span class=\"comments\">40</span>, <span class=\"comments\">38</span>, <span class=\"comments\">37</span>, <span class=\"comments\">36</span>, <span class=\"comments\">36</span>, <span class=\"comments\">32</span>, <span class=\"comments\">25</span>, <span class=\"comments\">24</span>, <span class=\"comments\">22</span>, <span class=\"comments\">21</span>]\n",
      "[<span class=\"comments\">97</span>, <span class=\"comments\">97</span>, <span class=\"comments\">90</span>, <span class=\"comments\">90</span>, <span class=\"comments\">88</span>, <span class=\"comments\">87</span>, <span class=\"comments\">87</span>, <span class=\"comments\">80</span>, <span class=\"comments\">79</span>, <span class=\"comments\">79</span>, <span class=\"comments\">78</span>, <span class=\"comments\">76</span>, <span class=\"comments\">76</span>, <span class=\"comments\">72</span>, <span class=\"comments\">72</span>, <span class=\"comments\">66</span>, <span class=\"comments\">66</span>, <span class=\"comments\">65</span>, <span class=\"comments\">65</span>, <span class=\"comments\">64</span>, <span class=\"comments\">61</span>, <span class=\"comments\">61</span>, <span class=\"comments\">59</span>, <span class=\"comments\">58</span>, <span class=\"comments\">57</span>, <span class=\"comments\">57</span>, <span class=\"comments\">54</span>, <span class=\"comments\">51</span>, <span class=\"comments\">49</span>, <span class=\"comments\">47</span>, <span class=\"comments\">40</span>, <span class=\"comments\">38</span>, <span class=\"comments\">37</span>, <span class=\"comments\">36</span>, <span class=\"comments\">36</span>, <span class=\"comments\">32</span>, <span class=\"comments\">25</span>, <span class=\"comments\">24</span>, <span class=\"comments\">22</span>, <span class=\"comments\">21</span>, <span class=\"comments\">19</span>]\n",
      "[<span class=\"comments\">97</span>, <span class=\"comments\">97</span>, <span class=\"comments\">90</span>, <span class=\"comments\">90</span>, <span class=\"comments\">88</span>, <span class=\"comments\">87</span>, <span class=\"comments\">87</span>, <span class=\"comments\">80</span>, <span class=\"comments\">79</span>, <span class=\"comments\">79</span>, <span class=\"comments\">78</span>, <span class=\"comments\">76</span>, <span class=\"comments\">76</span>, <span class=\"comments\">72</span>, <span class=\"comments\">72</span>, <span class=\"comments\">66</span>, <span class=\"comments\">66</span>, <span class=\"comments\">65</span>, <span class=\"comments\">65</span>, <span class=\"comments\">64</span>, <span class=\"comments\">61</span>, <span class=\"comments\">61</span>, <span class=\"comments\">59</span>, <span class=\"comments\">58</span>, <span class=\"comments\">57</span>, <span class=\"comments\">57</span>, <span class=\"comments\">54</span>, <span class=\"comments\">51</span>, <span class=\"comments\">49</span>, <span class=\"comments\">47</span>, <span class=\"comments\">40</span>, <span class=\"comments\">38</span>, <span class=\"comments\">37</span>, <span class=\"comments\">36</span>, <span class=\"comments\">36</span>, <span class=\"comments\">32</span>, <span class=\"comments\">25</span>, <span class=\"comments\">24</span>, <span class=\"comments\">22</span>, <span class=\"comments\">21</span>, <span class=\"comments\">19</span>, <span class=\"comments\">18</span>]\n",
      "[<span class=\"comments\">97</span>, <span class=\"comments\">97</span>, <span class=\"comments\">90</span>, <span class=\"comments\">90</span>, <span class=\"comments\">88</span>, <span class=\"comments\">87</span>, <span class=\"comments\">87</span>, <span class=\"comments\">80</span>, <span class=\"comments\">79</span>, <span class=\"comments\">79</span>, <span class=\"comments\">78</span>, <span class=\"comments\">76</span>, <span class=\"comments\">76</span>, <span class=\"comments\">72</span>, <span class=\"comments\">72</span>, <span class=\"comments\">66</span>, <span class=\"comments\">66</span>, <span class=\"comments\">65</span>, <span class=\"comments\">65</span>, <span class=\"comments\">64</span>, <span class=\"comments\">61</span>, <span class=\"comments\">61</span>, <span class=\"comments\">59</span>, <span class=\"comments\">58</span>, <span class=\"comments\">57</span>, <span class=\"comments\">57</span>, <span class=\"comments\">54</span>, <span class=\"comments\">51</span>, <span class=\"comments\">49</span>, <span class=\"comments\">47</span>, <span class=\"comments\">40</span>, <span class=\"comments\">38</span>, <span class=\"comments\">37</span>, <span class=\"comments\">36</span>, <span class=\"comments\">36</span>, <span class=\"comments\">32</span>, <span class=\"comments\">25</span>, <span class=\"comments\">24</span>, <span class=\"comments\">22</span>, <span class=\"comments\">21</span>, <span class=\"comments\">19</span>, <span class=\"comments\">18</span>, <span class=\"comments\">18</span>]\n",
      "[<span class=\"comments\">97</span>, <span class=\"comments\">97</span>, <span class=\"comments\">90</span>, <span class=\"comments\">90</span>, <span class=\"comments\">88</span>, <span class=\"comments\">87</span>, <span class=\"comments\">87</span>, <span class=\"comments\">80</span>, <span class=\"comments\">79</span>, <span class=\"comments\">79</span>, <span class=\"comments\">78</span>, <span class=\"comments\">76</span>, <span class=\"comments\">76</span>, <span class=\"comments\">72</span>, <span class=\"comments\">72</span>, <span class=\"comments\">66</span>, <span class=\"comments\">66</span>, <span class=\"comments\">65</span>, <span class=\"comments\">65</span>, <span class=\"comments\">64</span>, <span class=\"comments\">61</span>, <span class=\"comments\">61</span>, <span class=\"comments\">59</span>, <span class=\"comments\">58</span>, <span class=\"comments\">57</span>, <span class=\"comments\">57</span>, <span class=\"comments\">54</span>, <span class=\"comments\">51</span>, <span class=\"comments\">49</span>, <span class=\"comments\">47</span>, <span class=\"comments\">40</span>, <span class=\"comments\">38</span>, <span class=\"comments\">37</span>, <span class=\"comments\">36</span>, <span class=\"comments\">36</span>, <span class=\"comments\">32</span>, <span class=\"comments\">25</span>, <span class=\"comments\">24</span>, <span class=\"comments\">22</span>, <span class=\"comments\">21</span>, <span class=\"comments\">19</span>, <span class=\"comments\">18</span>, <span class=\"comments\">18</span>, <span class=\"comments\">14</span>]\n",
      "[<span class=\"comments\">97</span>, <span class=\"comments\">97</span>, <span class=\"comments\">90</span>, <span class=\"comments\">90</span>, <span class=\"comments\">88</span>, <span class=\"comments\">87</span>, <span class=\"comments\">87</span>, <span class=\"comments\">80</span>, <span class=\"comments\">79</span>, <span class=\"comments\">79</span>, <span class=\"comments\">78</span>, <span class=\"comments\">76</span>, <span class=\"comments\">76</span>, <span class=\"comments\">72</span>, <span class=\"comments\">72</span>, <span class=\"comments\">66</span>, <span class=\"comments\">66</span>, <span class=\"comments\">65</span>, <span class=\"comments\">65</span>, <span class=\"comments\">64</span>, <span class=\"comments\">61</span>, <span class=\"comments\">61</span>, <span class=\"comments\">59</span>, <span class=\"comments\">58</span>, <span class=\"comments\">57</span>, <span class=\"comments\">57</span>, <span class=\"comments\">54</span>, <span class=\"comments\">51</span>, <span class=\"comments\">49</span>, <span class=\"comments\">47</span>, <span class=\"comments\">40</span>, <span class=\"comments\">38</span>, <span class=\"comments\">37</span>, <span class=\"comments\">36</span>, <span class=\"comments\">36</span>, <span class=\"comments\">32</span>, <span class=\"comments\">25</span>, <span class=\"comments\">24</span>, <span class=\"comments\">22</span>, <span class=\"comments\">21</span>, <span class=\"comments\">19</span>, <span class=\"comments\">18</span>, <span class=\"comments\">18</span>, <span class=\"comments\">14</span>, <span class=\"comments\">12</span>]\n",
      "[<span class=\"comments\">97</span>, <span class=\"comments\">97</span>, <span class=\"comments\">90</span>, <span class=\"comments\">90</span>, <span class=\"comments\">88</span>, <span class=\"comments\">87</span>, <span class=\"comments\">87</span>, <span class=\"comments\">80</span>, <span class=\"comments\">79</span>, <span class=\"comments\">79</span>, <span class=\"comments\">78</span>, <span class=\"comments\">76</span>, <span class=\"comments\">76</span>, <span class=\"comments\">72</span>, <span class=\"comments\">72</span>, <span class=\"comments\">66</span>, <span class=\"comments\">66</span>, <span class=\"comments\">65</span>, <span class=\"comments\">65</span>, <span class=\"comments\">64</span>, <span class=\"comments\">61</span>, <span class=\"comments\">61</span>, <span class=\"comments\">59</span>, <span class=\"comments\">58</span>, <span class=\"comments\">57</span>, <span class=\"comments\">57</span>, <span class=\"comments\">54</span>, <span class=\"comments\">51</span>, <span class=\"comments\">49</span>, <span class=\"comments\">47</span>, <span class=\"comments\">40</span>, <span class=\"comments\">38</span>, <span class=\"comments\">37</span>, <span class=\"comments\">36</span>, <span class=\"comments\">36</span>, <span class=\"comments\">32</span>, <span class=\"comments\">25</span>, <span class=\"comments\">24</span>, <span class=\"comments\">22</span>, <span class=\"comments\">21</span>, <span class=\"comments\">19</span>, <span class=\"comments\">18</span>, <span class=\"comments\">18</span>, <span class=\"comments\">14</span>, <span class=\"comments\">12</span>, <span class=\"comments\">12</span>]\n",
      "[<span class=\"comments\">97</span>, <span class=\"comments\">97</span>, <span class=\"comments\">90</span>, <span class=\"comments\">90</span>, <span class=\"comments\">88</span>, <span class=\"comments\">87</span>, <span class=\"comments\">87</span>, <span class=\"comments\">80</span>, <span class=\"comments\">79</span>, <span class=\"comments\">79</span>, <span class=\"comments\">78</span>, <span class=\"comments\">76</span>, <span class=\"comments\">76</span>, <span class=\"comments\">72</span>, <span class=\"comments\">72</span>, <span class=\"comments\">66</span>, <span class=\"comments\">66</span>, <span class=\"comments\">65</span>, <span class=\"comments\">65</span>, <span class=\"comments\">64</span>, <span class=\"comments\">61</span>, <span class=\"comments\">61</span>, <span class=\"comments\">59</span>, <span class=\"comments\">58</span>, <span class=\"comments\">57</span>, <span class=\"comments\">57</span>, <span class=\"comments\">54</span>, <span class=\"comments\">51</span>, <span class=\"comments\">49</span>, <span class=\"comments\">47</span>, <span class=\"comments\">40</span>, <span class=\"comments\">38</span>, <span class=\"comments\">37</span>, <span class=\"comments\">36</span>, <span class=\"comments\">36</span>, <span class=\"comments\">32</span>, <span class=\"comments\">25</span>, <span class=\"comments\">24</span>, <span class=\"comments\">22</span>, <span class=\"comments\">21</span>, <span class=\"comments\">19</span>, <span class=\"comments\">18</span>, <span class=\"comments\">18</span>, <span class=\"comments\">14</span>, <span class=\"comments\">12</span>, <span class=\"comments\">12</span>, <span class=\"comments\">9</span>]\n",
      "[<span class=\"comments\">97</span>, <span class=\"comments\">97</span>, <span class=\"comments\">90</span>, <span class=\"comments\">90</span>, <span class=\"comments\">88</span>, <span class=\"comments\">87</span>, <span class=\"comments\">87</span>, <span class=\"comments\">80</span>, <span class=\"comments\">79</span>, <span class=\"comments\">79</span>, <span class=\"comments\">78</span>, <span class=\"comments\">76</span>, <span class=\"comments\">76</span>, <span class=\"comments\">72</span>, <span class=\"comments\">72</span>, <span class=\"comments\">66</span>, <span class=\"comments\">66</span>, <span class=\"comments\">65</span>, <span class=\"comments\">65</span>, <span class=\"comments\">64</span>, <span class=\"comments\">61</span>, <span class=\"comments\">61</span>, <span class=\"comments\">59</span>, <span class=\"comments\">58</span>, <span class=\"comments\">57</span>, <span class=\"comments\">57</span>, <span class=\"comments\">54</span>, <span class=\"comments\">51</span>, <span class=\"comments\">49</span>, <span class=\"comments\">47</span>, <span class=\"comments\">40</span>, <span class=\"comments\">38</span>, <span class=\"comments\">37</span>, <span class=\"comments\">36</span>, <span class=\"comments\">36</span>, <span class=\"comments\">32</span>, <span class=\"comments\">25</span>, <span class=\"comments\">24</span>, <span class=\"comments\">22</span>, <span class=\"comments\">21</span>, <span class=\"comments\">19</span>, <span class=\"comments\">18</span>, <span class=\"comments\">18</span>, <span class=\"comments\">14</span>, <span class=\"comments\">12</span>, <span class=\"comments\">12</span>, <span class=\"comments\">9</span>, <span class=\"comments\">7</span>]\n",
      "[<span class=\"comments\">97</span>, <span class=\"comments\">97</span>, <span class=\"comments\">90</span>, <span class=\"comments\">90</span>, <span class=\"comments\">88</span>, <span class=\"comments\">87</span>, <span class=\"comments\">87</span>, <span class=\"comments\">80</span>, <span class=\"comments\">79</span>, <span class=\"comments\">79</span>, <span class=\"comments\">78</span>, <span class=\"comments\">76</span>, <span class=\"comments\">76</span>, <span class=\"comments\">72</span>, <span class=\"comments\">72</span>, <span class=\"comments\">66</span>, <span class=\"comments\">66</span>, <span class=\"comments\">65</span>, <span class=\"comments\">65</span>, <span class=\"comments\">64</span>, <span class=\"comments\">61</span>, <span class=\"comments\">61</span>, <span class=\"comments\">59</span>, <span class=\"comments\">58</span>, <span class=\"comments\">57</span>, <span class=\"comments\">57</span>, <span class=\"comments\">54</span>, <span class=\"comments\">51</span>, <span class=\"comments\">49</span>, <span class=\"comments\">47</span>, <span class=\"comments\">40</span>, <span class=\"comments\">38</span>, <span class=\"comments\">37</span>, <span class=\"comments\">36</span>, <span class=\"comments\">36</span>, <span class=\"comments\">32</span>, <span class=\"comments\">25</span>, <span class=\"comments\">24</span>, <span class=\"comments\">22</span>, <span class=\"comments\">21</span>, <span class=\"comments\">19</span>, <span class=\"comments\">18</span>, <span class=\"comments\">18</span>, <span class=\"comments\">14</span>, <span class=\"comments\">12</span>, <span class=\"comments\">12</span>, <span class=\"comments\">9</span>, <span class=\"comments\">7</span>, <span class=\"comments\">3</span>]\n",
      "[<span class=\"comments\">97</span>, <span class=\"comments\">97</span>, <span class=\"comments\">90</span>, <span class=\"comments\">90</span>, <span class=\"comments\">88</span>, <span class=\"comments\">87</span>, <span class=\"comments\">87</span>, <span class=\"comments\">80</span>, <span class=\"comments\">79</span>, <span class=\"comments\">79</span>, <span class=\"comments\">78</span>, <span class=\"comments\">76</span>, <span class=\"comments\">76</span>, <span class=\"comments\">72</span>, <span class=\"comments\">72</span>, <span class=\"comments\">66</span>, <span class=\"comments\">66</span>, <span class=\"comments\">65</span>, <span class=\"comments\">65</span>, <span class=\"comments\">64</span>, <span class=\"comments\">61</span>, <span class=\"comments\">61</span>, <span class=\"comments\">59</span>, <span class=\"comments\">58</span>, <span class=\"comments\">57</span>, <span class=\"comments\">57</span>, <span class=\"comments\">54</span>, <span class=\"comments\">51</span>, <span class=\"comments\">49</span>, <span class=\"comments\">47</span>, <span class=\"comments\">40</span>, <span class=\"comments\">38</span>, <span class=\"comments\">37</span>, <span class=\"comments\">36</span>, <span class=\"comments\">36</span>, <span class=\"comments\">32</span>, <span class=\"comments\">25</span>, <span class=\"comments\">24</span>, <span class=\"comments\">22</span>, <span class=\"comments\">21</span>, <span class=\"comments\">19</span>, <span class=\"comments\">18</span>, <span class=\"comments\">18</span>, <span class=\"comments\">14</span>, <span class=\"comments\">12</span>, <span class=\"comments\">12</span>, <span class=\"comments\">9</span>, <span class=\"comments\">7</span>, <span class=\"comments\">3</span>, <span class=\"comments\">2</span>]\n"
     ]
    }
   ],
   "source": [
    "import requests\n",
    "from bs4 import BeautifulSoup\n",
    "url = 'http://py4e-data.dr-chuck.net/comments_42.html'\n",
    "resp = requests.get(url)\n",
    "soup = BeautifulSoup(resp.text, 'lxml')\n",
    "\n",
    "urls = []\n",
    "for h in soup.find_all('span'):\n",
    "    urls.append(h)\n",
    "    print(urls)"
   ]
  },
  {
   "cell_type": "code",
   "execution_count": 125,
   "metadata": {},
   "outputs": [
    {
     "name": "stdout",
     "output_type": "stream",
     "text": [
      "97\n",
      "97\n",
      "90\n",
      "90\n",
      "88\n",
      "87\n",
      "87\n",
      "80\n",
      "79\n",
      "79\n",
      "78\n",
      "76\n",
      "76\n",
      "72\n",
      "72\n",
      "66\n",
      "66\n",
      "65\n",
      "65\n",
      "64\n",
      "61\n",
      "61\n",
      "59\n",
      "58\n",
      "57\n",
      "57\n",
      "54\n",
      "51\n",
      "49\n",
      "47\n",
      "40\n",
      "38\n",
      "37\n",
      "36\n",
      "36\n",
      "32\n",
      "25\n",
      "24\n",
      "22\n",
      "21\n",
      "19\n",
      "18\n",
      "18\n",
      "14\n",
      "12\n",
      "12\n",
      "9\n",
      "7\n",
      "3\n",
      "2\n"
     ]
    }
   ],
   "source": [
    "for tag in soup.find_all(\"span\"):\n",
    "        print(tag.text)     "
   ]
  },
  {
   "cell_type": "code",
   "execution_count": 146,
   "metadata": {},
   "outputs": [
    {
     "name": "stdout",
     "output_type": "stream",
     "text": [
      "2553\n"
     ]
    }
   ],
   "source": [
    "new=[]\n",
    "for tag in soup.find_all(\"span\"):\n",
    "    new.append(int(tag.string))\n",
    "\n",
    "print(sum(new))"
   ]
  },
  {
   "cell_type": "code",
   "execution_count": null,
   "metadata": {},
   "outputs": [],
   "source": []
  }
 ],
 "metadata": {
  "kernelspec": {
   "display_name": "Python 3",
   "language": "python",
   "name": "python3"
  },
  "language_info": {
   "codemirror_mode": {
    "name": "ipython",
    "version": 3
   },
   "file_extension": ".py",
   "mimetype": "text/x-python",
   "name": "python",
   "nbconvert_exporter": "python",
   "pygments_lexer": "ipython3",
   "version": "3.6.5"
  }
 },
 "nbformat": 4,
 "nbformat_minor": 2
}
